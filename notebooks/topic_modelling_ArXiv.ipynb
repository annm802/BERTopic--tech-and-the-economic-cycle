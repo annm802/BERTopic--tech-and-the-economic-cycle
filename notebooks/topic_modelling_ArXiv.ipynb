{
  "cells": [
    {
      "cell_type": "markdown",
      "source": [
        "### **Installing and importing necessary libraries**"
      ],
      "metadata": {
        "id": "Qzm-V2Cv8Wxj"
      }
    },
    {
      "cell_type": "code",
      "execution_count": null,
      "metadata": {
        "id": "TZIGL6roer69"
      },
      "outputs": [],
      "source": [
        "import locale\n",
        "locale.getpreferredencoding = lambda: \"UTF-8\"\n",
        "!pip install cudf-cu11 dask-cudf-cu11 --extra-index-url=https://pypi.nvidia.com\n",
        "!pip install cuml-cu11 --extra-index-url=https://pypi.nvidia.com\n",
        "!pip install cugraph-cu11 --extra-index-url=https://pypi.nvidia.com\n",
        "!pip install cupy-cuda11x -f https://pip.cupy.dev/aarch64"
      ]
    },
    {
      "cell_type": "code",
      "execution_count": null,
      "metadata": {
        "id": "xAulKoMs7DzH"
      },
      "outputs": [],
      "source": [
        "import locale\n",
        "locale.getpreferredencoding = lambda: \"UTF-8\"\n",
        "\n",
        "# Installing dependencies of the saved model\n",
        "\n",
        "!pip install -r '/content/drive/MyDrive/requirements.txt'"
      ]
    },
    {
      "cell_type": "markdown",
      "source": [
        "Restart runtime after running the previous cell"
      ],
      "metadata": {
        "id": "Q1ZFCf-O8sBa"
      }
    },
    {
      "cell_type": "code",
      "execution_count": null,
      "metadata": {
        "colab": {
          "base_uri": "https://localhost:8080/"
        },
        "id": "HqUzBeDM2cbd",
        "outputId": "ff7fd9eb-56b3-4046-a86a-f6b049bfa1ef"
      },
      "outputs": [
        {
          "output_type": "stream",
          "name": "stdout",
          "text": [
            "Mounted at /content/drive\n"
          ]
        }
      ],
      "source": [
        "from google.colab import drive\n",
        "drive.mount('/content/drive')"
      ]
    },
    {
      "cell_type": "code",
      "execution_count": null,
      "metadata": {
        "id": "HrmHoMH-qu8D"
      },
      "outputs": [],
      "source": [
        "# importing libraries\n",
        "from cuml.cluster import HDBSCAN\n",
        "import cuml\n",
        "from cuml.manifold import UMAP\n",
        "from cuml.cluster import HDBSCAN\n",
        "from bertopic import BERTopic\n",
        "from sentence_transformers import SentenceTransformer\n",
        "import collections\n",
        "from tqdm import tqdm\n",
        "from sklearn.feature_extraction.text import CountVectorizer\n",
        "from bertopic.cluster import BaseCluster\n",
        "from bertopic.representation import KeyBERTInspired, MaximalMarginalRelevance"
      ]
    },
    {
      "cell_type": "code",
      "execution_count": null,
      "metadata": {
        "id": "veTyOALBrK_m"
      },
      "outputs": [],
      "source": [
        "# importing \"dimensionality.py\"- this is used for the BERTopic model\n",
        "import pandas as pd\n",
        "import re\n",
        "import numpy as np\n",
        "import os\n",
        "import sys\n",
        "import operator\n",
        "\n",
        "sys.path.insert(0,'/content/drive/My Drive/')\n",
        "#sys.path.append('/content/drive/My Drive/')\n",
        "import dimensionality\n",
        "import pre_processing\n",
        "from dimensionality import *\n",
        "from pre_processing import *"
      ]
    },
    {
      "cell_type": "markdown",
      "source": [
        "### **Topic Modeling**"
      ],
      "metadata": {
        "id": "IR7eXGWDoyZy"
      }
    },
    {
      "cell_type": "markdown",
      "source": [
        "### Sentence embeddings"
      ],
      "metadata": {
        "id": "faxiRakIpPD5"
      }
    },
    {
      "cell_type": "code",
      "source": [
        "#Importing data for training the topic model\n",
        "train_set = pd.to_csv(\"/content/drive/MyDrive/cs_train_set.csv\")\n",
        "val_set = pd.to_csv(\"/content/drive/MyDrive/cs_val_set.csv\")"
      ],
      "metadata": {
        "id": "elG5GMOlYS1d"
      },
      "execution_count": null,
      "outputs": []
    },
    {
      "cell_type": "code",
      "execution_count": null,
      "metadata": {
        "id": "hBS0LcQqHunf"
      },
      "outputs": [],
      "source": [
        "# Converting the abstract column to a list\n",
        "docs= train_set['abstract'].tolist()\n",
        "\n",
        "# Creating embeddings of the abstracts using sentence transformers\n",
        "model = SentenceTransformer('sentence-transformers/all-MiniLM-L6-v2')\n",
        "cs_embeddings = model.encode(docs, show_progress_bar=True)\n",
        "\n",
        "#Saving the embeddings\n",
        "import numpy as np\n",
        "with open('/content/drive/MyDrive/cs_embeddings.npy', 'wb') as f:\n",
        "         np.save(f, cs_embeddings)\n",
        "\n",
        "#Loading the embeddings\n",
        "cs_embeddings = np.load('/content/drive/MyDrive/cs_embeddings.npy')"
      ]
    },
    {
      "cell_type": "code",
      "execution_count": null,
      "metadata": {
        "colab": {
          "base_uri": "https://localhost:8080/"
        },
        "id": "LSaTSAnwOvTe",
        "outputId": "8b217202-ecfd-4184-a336-13e48cec7fe5"
      },
      "outputs": [
        {
          "output_type": "stream",
          "name": "stderr",
          "text": [
            "100%|██████████| 192324/192324 [00:20<00:00, 9170.50it/s]\n"
          ]
        },
        {
          "output_type": "execute_result",
          "data": {
            "text/plain": [
              "33019"
            ]
          },
          "metadata": {},
          "execution_count": 49
        }
      ],
      "source": [
        "# Extracting vocab to be used in BERTopic\n",
        "vocab = collections.Counter()\n",
        "tokenizer = CountVectorizer().build_tokenizer()\n",
        "for doc in tqdm(docs):\n",
        "  vocab.update(tokenizer(doc))\n",
        "vocab = [word for word, frequency in vocab.items() if frequency >= 15]; len(vocab)"
      ]
    },
    {
      "cell_type": "markdown",
      "source": [
        "### Dimensionality Reduction with UMAP"
      ],
      "metadata": {
        "id": "TYo5pCa_phfC"
      }
    },
    {
      "cell_type": "code",
      "execution_count": null,
      "metadata": {
        "colab": {
          "base_uri": "https://localhost:8080/"
        },
        "id": "2FGIWWj-J0ee",
        "outputId": "519884c5-f97c-4d89-973c-343f41929801"
      },
      "outputs": [
        {
          "output_type": "stream",
          "name": "stdout",
          "text": [
            "[D] [14:03:03.636557] /__w/cuml/cuml/cpp/src/umap/runner.cuh:108 n_neighbors=20\n",
            "[D] [14:03:03.638238] /__w/cuml/cuml/cpp/src/umap/runner.cuh:130 Calling knn graph run\n",
            "[D] [14:03:13.750573] /__w/cuml/cuml/cpp/src/umap/runner.cuh:136 Done. Calling fuzzy simplicial set\n",
            "[D] [14:03:13.758648] /__w/cuml/cuml/cpp/src/umap/fuzzy_simpl_set/naive.cuh:317 Smooth kNN Distances\n",
            "[D] [14:03:13.758898] /__w/cuml/cuml/cpp/src/umap/fuzzy_simpl_set/naive.cuh:319 sigmas = [ 0.24085, 0.24804, 0.285179, 0.0307922, 0.203391, 0.0552785, 0.259437, 0.0258893, 0.032639, 0.220333, 0.0368831, 0.187842, 0.0399399, 0.0420644, 0.254643, 0.0347199, 0.165416, 0.170041, 0.0501342, 0.0148819, 0.124946, 0.035408, 0.0340924, 0.205509, 0.0475407 ]\n",
            "\n",
            "[D] [14:03:13.760249] /__w/cuml/cuml/cpp/src/umap/fuzzy_simpl_set/naive.cuh:321 rhos = [ 1.19209e-07, 5.96046e-08, 5.96046e-08, 0.275533, 1.78814e-07, 0.221021, 1.78814e-07, 0.165301, 0.318987, 5.96046e-08, 0.307853, 1.78814e-07, 0.339531, 0.283018, 1.78814e-07, 0.402606, 5.96046e-07, 4.17233e-07, 0.160555, 0.360017, 0.0890933, 0.342108, 0.224984, 1.78814e-07, 0.296679 ]\n",
            "\n",
            "[D] [14:03:13.760328] /__w/cuml/cuml/cpp/src/umap/fuzzy_simpl_set/naive.cuh:345 Compute Membership Strength\n",
            "[D] [14:03:15.840628] /__w/cuml/cuml/cpp/src/umap/fuzzy_simpl_set/naive.cuh:348 /__w/cuml/cuml/cpp/src/umap/fuzzy_simpl_set/naive.cuh:348 \n",
            "[D] [14:03:15.900634] /__w/cuml/cuml/cpp/src/umap/runner.cuh:143 Done. Calling remove zeros\n",
            "[D] [14:03:20.743381] /__w/cuml/cuml/cpp/src/umap/simpl_set_embed/algo.cuh:347 /__w/cuml/cuml/cpp/src/umap/simpl_set_embed/algo.cuh:347 \n"
          ]
        }
      ],
      "source": [
        "# Train model and reduce dimensionality of embeddings\n",
        "umap_model = UMAP(n_components=5, n_neighbors=20, random_state=23,\n",
        "                  learning_rate= 1e-09, metric=\"cosine\", verbose=True)\n",
        "reduced_embeddings = umap_model.fit_transform(cs_embeddings)"
      ]
    },
    {
      "cell_type": "markdown",
      "source": [
        "### Clustering with HDBSCAN"
      ],
      "metadata": {
        "id": "jxUfSpBIpuLz"
      }
    },
    {
      "cell_type": "code",
      "execution_count": null,
      "metadata": {
        "id": "Sr9i-UBlJ_MZ"
      },
      "outputs": [],
      "source": [
        "# Find clusters of semantically similar documents\n",
        "hdbscan_model = HDBSCAN(min_samples=100, gen_min_span_tree=True, prediction_data=True,\n",
        "                        min_cluster_size=100, verbose=True)\n",
        "cs_clusters = hdbscan_model.fit(reduced_embeddings).labels_"
      ]
    },
    {
      "cell_type": "markdown",
      "source": [
        "### Getting Topic Representations"
      ],
      "metadata": {
        "id": "KAJXl8c8p19P"
      }
    },
    {
      "cell_type": "code",
      "execution_count": null,
      "metadata": {
        "colab": {
          "base_uri": "https://localhost:8080/"
        },
        "id": "8ZxeKlMZLdMD",
        "outputId": "b34834d8-9a2d-4619-cd1f-d1ada48af591"
      },
      "outputs": [
        {
          "output_type": "stream",
          "name": "stderr",
          "text": [
            "2023-08-16 14:05:15,430 - BERTopic - The dimensionality reduction algorithm did not contain the `y` parameter and therefore the `y` parameter was not used\n",
            "2023-08-16 14:05:15,432 - BERTopic - Reduced dimensionality\n",
            "2023-08-16 14:05:15,489 - BERTopic - Clustered reduced embeddings\n",
            "/usr/local/lib/python3.10/dist-packages/bertopic/vectorizers/_ctfidf.py:69: RuntimeWarning: divide by zero encountered in divide\n",
            "  idf = np.log((avg_nr_samples / df)+1)\n"
          ]
        }
      ],
      "source": [
        "# Prepare sub-models\n",
        "embedding_model = SentenceTransformer('all-MiniLM-L6-v2')\n",
        "umap_model = dimensionality.Dimensionality(reduced_embeddings)\n",
        "hdbscan_model = BaseCluster()\n",
        "vectorizer_model = CountVectorizer(vocabulary= vocab, stop_words=\"english\")\n",
        "representation_model = KeyBERTInspired()\n",
        "\n",
        "# Fitting BERTopic\n",
        "topic_model= BERTopic(\n",
        "        embedding_model=embedding_model,\n",
        "        umap_model=umap_model,\n",
        "        top_n_words=20,\n",
        "        hdbscan_model=hdbscan_model,\n",
        "        vectorizer_model=vectorizer_model,\n",
        "        representation_model=representation_model,\n",
        "        verbose=True\n",
        ").fit(docs, embeddings=cs_embeddings, y=cs_clusters)"
      ]
    },
    {
      "cell_type": "code",
      "execution_count": null,
      "metadata": {
        "id": "G3YFY3JPzUvM"
      },
      "outputs": [],
      "source": [
        "#saving the topic model\n",
        "topic_model.save('/content/drive/MyDrive/124_topic_model', serialization=\"pickle\")"
      ]
    },
    {
      "cell_type": "code",
      "execution_count": null,
      "metadata": {
        "id": "FMtMHibu6uhd"
      },
      "outputs": [],
      "source": [
        "#how to load the topic model\n",
        "topic_model=BERTopic.load('/content/drive/MyDrive/124_topic_model')"
      ]
    },
    {
      "cell_type": "markdown",
      "source": [
        "### Creating Themes\n",
        "By merging similar topics"
      ],
      "metadata": {
        "id": "Co8ciq7cqVG8"
      }
    },
    {
      "cell_type": "code",
      "execution_count": null,
      "metadata": {
        "colab": {
          "base_uri": "https://localhost:8080/"
        },
        "id": "vaNOxzVGhGvO",
        "outputId": "be5cee2b-8628-4de6-aeb8-16179a0442f5"
      },
      "outputs": [
        {
          "output_type": "stream",
          "name": "stdout",
          "text": [
            "[[-1, 0, 8, 9, 13, 14, 18, 25, 26, 30, 36, 39, 41, 46, 50, 51, 52, 53, 58, 60, 63, 64, 65, 66, 75, 79, 81, 84, 85, 88, 92, 94, 95, 99, 100, 103, 105, 107, 108, 112, 113, 117, 120, 121, 123], [16, 35, 69, 70, 96, 124], [1, 78, 122], [2, 32, 48, 57, 77], [5, 23, 68, 109], [3, 15, 27, 67, 87], [7, 106], [12], [20, 47, 54, 76, 86, 91, 119], [10], [40, 110], [17, 37, 59, 98, 111, 116, 118], [4, 21, 28, 38, 59, 74, 82, 101], [19, 89], [6, 33, 43, 97, 104, 115], [11, 42], [22, 102, 114], [24], [], [73], [29, 56, 62], [55, 61, 72, 90], [31], [80, 83], [34], [44], [45, 71, 93]]\n"
          ]
        }
      ],
      "source": [
        "new_dict= {'other': [-1,0,8,9,13,14,18,25,26,30,36,39,41,46,50,51,52,53,58,60,63,64,65,66,75,79,81,84,85,88,92,94,95,99,100,103,105,107,108,112,\n",
        "                     113,117,120,121,123],\n",
        "           'language': [16,35,69,70,96,124],\n",
        "           'sound': [1,78,122],\n",
        "            'network_communication': [2,32,48,57,77], 'programming':[5,23,68,109], 'social_networks':[3,15,27,67,87], 'blockchains':[7,106], 'VR':[12],\n",
        "            'vision':[20,47,54,76,86,91,119],'recommendation_systems': [10], 'auctions':[40,110], 'memory_processors': [17,37,59,98,111,116,118],\n",
        "            'cybersecurity':[4,21,28,38,59,74,82,101],'continual_reinforcement_learning':[19,89],\n",
        "            'neural_networks': [6,33,43,97,104,115], 'robotics':[11,42],\n",
        "            'games':[22,102,114], 'grids':[24], 'biology_chemistry':[], 'emotion_recognition':[73],'fairness':[29,56,62], 'servers':[55,61,72,90],\n",
        "            'voting':[31], 'clustering':[80,83], 'ethics':[34], 'quantum_computing':[44], 'vehicles':[45,71,93]}\n",
        "\n",
        "topics_to_merge = [a_list for a_list in new_dict.values()]\n",
        "print(topics_to_merge)"
      ]
    },
    {
      "cell_type": "code",
      "execution_count": null,
      "metadata": {
        "colab": {
          "base_uri": "https://localhost:8080/"
        },
        "id": "LbzgXWSFkiNj",
        "outputId": "83eb3fe5-426c-493d-c847-19a17675a3f3"
      },
      "outputs": [
        {
          "output_type": "stream",
          "name": "stderr",
          "text": [
            "/usr/local/lib/python3.10/dist-packages/bertopic/vectorizers/_ctfidf.py:69: RuntimeWarning: divide by zero encountered in divide\n",
            "  idf = np.log((avg_nr_samples / df)+1)\n"
          ]
        }
      ],
      "source": [
        "topic_model.merge_topics(docs, topics_to_merge= topics_to_merge)"
      ]
    },
    {
      "cell_type": "markdown",
      "source": [
        "Setting Theme Names"
      ],
      "metadata": {
        "id": "dA57VHJVqeU3"
      }
    },
    {
      "cell_type": "code",
      "execution_count": null,
      "metadata": {
        "id": "6VWv8_syMRB0"
      },
      "outputs": [],
      "source": [
        "topic_model.set_topic_labels({-1:'other',0:'network_communication',1:'sound',2:'cybersecurity',3:'social networks',4:'programming',\n",
        "5:'neural networks', 6:'memory & processors',7:'language', 8:'vision',9:'robotics', 10:'blockchain',11:'recommendation systems',\n",
        "12: 'VR',13:'reinforcement learning', 14:'games', 15:'fairness', 16: 'grids', 17:'servers',18:'vehicles',  19:'voting',20:'auctions',\n",
        "21:'ethics',22:'quantum computing', 23:'clustering' ,24:'emotion recognition'})"
      ]
    },
    {
      "cell_type": "code",
      "execution_count": null,
      "metadata": {
        "id": "EAYRNoqg62Nl"
      },
      "outputs": [],
      "source": [
        "topic_model_df = topic_model.get_topic_info()\n",
        "topic_model_df"
      ]
    },
    {
      "cell_type": "markdown",
      "source": [
        "### **Saving and Loading the Model**"
      ],
      "metadata": {
        "id": "18EgppYjRkYF"
      }
    },
    {
      "cell_type": "code",
      "execution_count": null,
      "metadata": {
        "id": "vxbsLTM1uRNE"
      },
      "outputs": [],
      "source": [
        "# Saving the updated topic model\n",
        "topic_model.save('/content/drive/MyDrive/24_topics_model', serialization=\"pickle\")"
      ]
    },
    {
      "cell_type": "code",
      "execution_count": null,
      "metadata": {
        "id": "xAD4bUlPuRNL"
      },
      "outputs": [],
      "source": [
        "#Loading the new model\n",
        "topic_model=BERTopic.load('/content/drive/MyDrive/24_topics_model')"
      ]
    }
  ],
  "metadata": {
    "colab": {
      "provenance": []
    },
    "kernelspec": {
      "display_name": "Python 3",
      "name": "python3"
    },
    "language_info": {
      "name": "python"
    }
  },
  "nbformat": 4,
  "nbformat_minor": 0
}